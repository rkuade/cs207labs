{
 "cells": [
  {
   "cell_type": "markdown",
   "metadata": {},
   "source": [
    "# Back to Julia"
   ]
  },
  {
   "cell_type": "code",
   "execution_count": 1,
   "metadata": {
    "collapsed": true
   },
   "outputs": [],
   "source": [
    "%load_ext Cython"
   ]
  },
  {
   "cell_type": "markdown",
   "metadata": {},
   "source": [
    "This is what we had last time to start with..."
   ]
  },
  {
   "cell_type": "markdown",
   "metadata": {},
   "source": [
    "## Pure python"
   ]
  },
  {
   "cell_type": "code",
   "execution_count": 4,
   "metadata": {
    "collapsed": true
   },
   "outputs": [],
   "source": [
    "from collections import namedtuple\n",
    "Box = namedtuple(\"Box\", \"x1 x2 y1 y2\")\n",
    "bounds = Box(-1.8, 1.8, -1.8, 1.8)\n",
    "focus=complex(-0.62772, -.42193)\n",
    "gridsize=1000\n",
    "iters=300\n",
    "\n",
    "def setup_grid(gridsize, box):\n",
    "    xstep = (box.x2 - box.x1)/(gridsize - 1.0)\n",
    "    ystep = (box.y2 - box.y1)/(gridsize - 1.0)\n",
    "    xs = (box.x1+ i* xstep for i in range(gridsize))\n",
    "    zs=[]\n",
    "    for x in xs:\n",
    "        ys = (box.y1+ i* ystep for i in range(gridsize))\n",
    "        for y in ys:\n",
    "            zs.append(complex(x,y))\n",
    "    return zs\n",
    "\n",
    "def zts1(maxiter, zs, c): \n",
    "    output = [0] * len(zs)\n",
    "    for i,z in enumerate(zs):\n",
    "        n=0\n",
    "        while n < maxiter and abs(z) < 2:\n",
    "            z=z*z+c\n",
    "            n+=1 \n",
    "        output[i] = n\n",
    "    return output\n",
    "\n",
    "def run1():\n",
    "    zs = setup_grid(gridsize, bounds)\n",
    "    out = zts1(iters, zs, focus)\n",
    "    return zs, out"
   ]
  },
  {
   "cell_type": "code",
   "execution_count": 5,
   "metadata": {
    "collapsed": false
   },
   "outputs": [],
   "source": [
    "%timeit -r 1 -n 5 run1()"
   ]
  },
  {
   "cell_type": "markdown",
   "metadata": {},
   "source": [
    "And by the end of last lab you probably got to something like this...lets call it **B**\n",
    "\n",
    "## cython"
   ]
  },
  {
   "cell_type": "code",
   "execution_count": 6,
   "metadata": {
    "collapsed": false
   },
   "outputs": [],
   "source": [
    "%%cython --annotate\n",
    "cimport cython\n",
    "@cython.boundscheck(False)\n",
    "def zts1_cython4(int maxiter, zs, double complex c): \n",
    "    cdef unsigned int i, n\n",
    "    cdef double complex z\n",
    "    output = [0] * len(zs)\n",
    "    i = 0\n",
    "    for z in zs:\n",
    "        n=0\n",
    "        while n < maxiter and z.real*z.real + z.imag*z.imag < 4:\n",
    "            z=z*z+c\n",
    "            n+=1 \n",
    "        output[i] = n\n",
    "        i += 1\n",
    "    return output"
   ]
  },
  {
   "cell_type": "code",
   "execution_count": 7,
   "metadata": {
    "collapsed": true
   },
   "outputs": [],
   "source": [
    "def run4():\n",
    "    zs = setup_grid(gridsize, bounds)\n",
    "    out = zts1_cython4(iters, zs, focus)\n",
    "    return zs, out"
   ]
  },
  {
   "cell_type": "code",
   "execution_count": 8,
   "metadata": {
    "collapsed": false
   },
   "outputs": [],
   "source": [
    "%timeit -r 1 -n 5 run4()"
   ]
  },
  {
   "cell_type": "markdown",
   "metadata": {},
   "source": [
    "## Q1. \n",
    "\n",
    "Implement the zts kernel such that `zs` is treated as a memoryview coming in and output is `cdef`ed as a memoryview to a `zs` shaped empty numpy array."
   ]
  },
  {
   "cell_type": "code",
   "execution_count": 24,
   "metadata": {
    "collapsed": false
   },
   "outputs": [],
   "source": [
    "%%cython --annotate\n",
    "cimport cython\n",
    "import numpy as np\n",
    "cimport numpy as np\n",
    "@cython.boundscheck(False)\n",
    "#your code here\n"
   ]
  },
  {
   "cell_type": "markdown",
   "metadata": {},
   "source": [
    "Now implement the grid zs as a numpy zeros array. Keep our generator based complex number creation going for now..."
   ]
  },
  {
   "cell_type": "code",
   "execution_count": null,
   "metadata": {
    "collapsed": true
   },
   "outputs": [],
   "source": [
    "def setup_grid_numpy(gridsize, box):\n",
    "    #your code here\n"
   ]
  },
  {
   "cell_type": "code",
   "execution_count": 30,
   "metadata": {
    "collapsed": true
   },
   "outputs": [],
   "source": [
    "def run5():\n",
    "    zs = setup_grid_numpy1(gridsize, bounds)\n",
    "    out = zts1_numpy(iters, zs, focus)\n",
    "    return zs, out"
   ]
  },
  {
   "cell_type": "code",
   "execution_count": 31,
   "metadata": {
    "collapsed": false
   },
   "outputs": [],
   "source": [
    "%timeit -r 1 -n 5 run5()"
   ]
  },
  {
   "cell_type": "markdown",
   "metadata": {},
   "source": [
    "## using `np.meshgrid`"
   ]
  },
  {
   "cell_type": "code",
   "execution_count": 32,
   "metadata": {
    "collapsed": false
   },
   "outputs": [],
   "source": [
    "def setup_grid_numpy2(gridsize, box):\n",
    "    xs = np.linspace(box.x1, box.x2, gridsize)\n",
    "    ys = np.linspace(box.y1, box.y2, gridsize)\n",
    "    X,Y = np.meshgrid(xs,ys)\n",
    "    zs = X + 1j*Y\n",
    "    return zs.reshape(gridsize*gridsize,)\n",
    "\n",
    "def run6():\n",
    "    zs = setup_grid_numpy2(gridsize, bounds)\n",
    "    out = zts1_numpy(iters, zs, focus)\n",
    "    return zs, out"
   ]
  },
  {
   "cell_type": "code",
   "execution_count": 34,
   "metadata": {
    "collapsed": false
   },
   "outputs": [],
   "source": [
    "%timeit -r 1 -n 5 run6()"
   ]
  },
  {
   "cell_type": "markdown",
   "metadata": {},
   "source": [
    "## Q2.\n",
    "\n",
    "You'll notice that this intermediate `zs` array we created isnt actually needed. We could set up the `z`s, and immediately run the code which checks to see if the value of `z` escapes.  We have refactored some of this code for you below. Start with `setup_grid_numpy` and change it to create a `run_cython_amalgamated` function which computes the z and runs `escape` on it. This function should return a tuple of memoryviers `zs, output`.\n",
    "\n",
    "The main loop should look like:\n",
    "```python\n",
    "for i in range(gridsize):\n",
    "    x = xstart + i*xstep\n",
    "    for j in range(gridsize):\n",
    "        y = ystart + i*ystep\n",
    "...\n",
    "```"
   ]
  },
  {
   "cell_type": "code",
   "execution_count": 42,
   "metadata": {
    "collapsed": false,
    "scrolled": true
   },
   "outputs": [],
   "source": [
    "%%cython --annotate\n",
    "cimport cython\n",
    "import numpy as np\n",
    "cimport numpy as np\n",
    "\n",
    "cdef inline double norm2(double complex z):\n",
    "    return z.real*z.real + z.imag*z.imag\n",
    "\n",
    "cdef int escape(int maxiter, double complex z, double complex c):\n",
    "    cdef int n=0\n",
    "    while n < maxiter and norm2(z) < 4:\n",
    "        z=z*z+c\n",
    "        n+=1\n",
    "    return n\n",
    "    \n",
    "@cython.boundscheck(False)\n",
    "@cython.wraparound(False)\n",
    "def run_cython_amalgamated(int gridsize, box, double complex c, int maxiter):\n",
    "    #your code here\n"
   ]
  },
  {
   "cell_type": "code",
   "execution_count": 71,
   "metadata": {
    "collapsed": false
   },
   "outputs": [],
   "source": [
    "%timeit -r 1 -n 5 run_cython_amalgamated(gridsize, bounds, focus, iters)"
   ]
  },
  {
   "cell_type": "markdown",
   "metadata": {},
   "source": [
    "## Q3.\n",
    "\n",
    "Lets nor parallelize this function. Cython allows us to do this using `openmp`, which is supported by the gcc, not the clang compiler. \n",
    "\n",
    "First notice that we have added `nogil` to the `cdef` functions that are called from main `def` function. Since those are in C, they can give up the GIL. So this is the unusual situation where coding in C allows us to get parallelism just using threads.\n",
    "\n",
    "The main loop should look like:\n",
    "```python\n",
    "for i in prange(gridsize, nogil=True,\n",
    "                    schedule='static', chunksize=1):\n",
    "    x = xstart + i*xstep\n",
    "    for j in range(gridsize):\n",
    "        y = ystart + i*ystep\n",
    "...\n",
    "```\n",
    "\n",
    "What's happening here is that `prange` partitions the outside loop to run on multiple threads in `chunksize` blocks, with a `static` schedule fixed at compile time. \n",
    "\n",
    "First write all the code in a `%%cython` cell below with annotations to see what it looks like."
   ]
  },
  {
   "cell_type": "code",
   "execution_count": 62,
   "metadata": {
    "collapsed": false
   },
   "outputs": [],
   "source": [
    "%%cython --annotate\n",
    "cimport cython\n",
    "import numpy as np\n",
    "cimport numpy as np\n",
    "from cython.parallel cimport prange\n",
    "\n",
    "cdef inline double norm2(double complex z) nogil:\n",
    "    return z.real*z.real + z.imag*z.imag\n",
    "\n",
    "cdef int escape(int maxiter, double complex z, double complex c) nogil:\n",
    "    cdef int n=0\n",
    "    while n < maxiter and norm2(z) < 4:\n",
    "        z=z*z+c\n",
    "        n+=1\n",
    "    return n\n",
    "\n",
    "@cython.boundscheck(False)\n",
    "@cython.wraparound(False)\n",
    "cpdef run_cython_amalgamated2(int gridsize, box, double complex c, int maxiter):\n",
    "    #your code here\n"
   ]
  },
  {
   "cell_type": "markdown",
   "metadata": {},
   "source": [
    "Then copy that all in a `parjulia.pyx` file with `openmp` compilation directives. To compile you will need gcc (`brew install gcc`), or a recent version of `clang`. Mine is 3.5 and openmp is not supported."
   ]
  },
  {
   "cell_type": "code",
   "execution_count": 66,
   "metadata": {
    "collapsed": false
   },
   "outputs": [],
   "source": [
    "%%file parjulia.pyx\n",
    "# distutils: extra_compile_args = -fopenmp\n",
    "# distutils: extra_link_args = -fopenmp\n",
    "#your code here\n"
   ]
  },
  {
   "cell_type": "markdown",
   "metadata": {},
   "source": [
    "Here is a `setup.py` to compile it"
   ]
  },
  {
   "cell_type": "code",
   "execution_count": 67,
   "metadata": {
    "collapsed": false
   },
   "outputs": [],
   "source": [
    "%%file setup.py\n",
    "from distutils.core import setup\n",
    "from Cython.Build import cythonize\n",
    "import numpy\n",
    "\n",
    "setup(name=\"parjulia\",\n",
    "      ext_modules=cythonize(\"parjulia.pyx\"),\n",
    "     include_dirs=[numpy.get_include()])"
   ]
  },
  {
   "cell_type": "markdown",
   "metadata": {},
   "source": [
    "And this is what I did to build the module:"
   ]
  },
  {
   "cell_type": "code",
   "execution_count": 75,
   "metadata": {
    "collapsed": false
   },
   "outputs": [],
   "source": [
    "!export CC=\"/usr/local/bin/gcc-5\"; python setup.py build_ext -if"
   ]
  },
  {
   "cell_type": "markdown",
   "metadata": {},
   "source": [
    "Lets run it!"
   ]
  },
  {
   "cell_type": "code",
   "execution_count": 69,
   "metadata": {
    "collapsed": false
   },
   "outputs": [],
   "source": [
    "from parjulia import run_cython_amalgamated2"
   ]
  },
  {
   "cell_type": "code",
   "execution_count": 72,
   "metadata": {
    "collapsed": false
   },
   "outputs": [],
   "source": [
    "%timeit -r 1 -n 5 run_cython_amalgamated2(gridsize, bounds, focus, iters)"
   ]
  }
 ],
 "metadata": {
  "kernelspec": {
   "display_name": "Python 3",
   "language": "python",
   "name": "python3"
  },
  "language_info": {
   "codemirror_mode": {
    "name": "ipython",
    "version": 3
   },
   "file_extension": ".py",
   "mimetype": "text/x-python",
   "name": "python",
   "nbconvert_exporter": "python",
   "pygments_lexer": "ipython3",
   "version": "3.5.1"
  }
 },
 "nbformat": 4,
 "nbformat_minor": 0
}
