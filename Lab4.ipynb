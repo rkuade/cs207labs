{
 "cells": [
  {
   "cell_type": "markdown",
   "metadata": {},
   "source": [
    "### Q1: What to do while the data is away?"
   ]
  },
  {
   "cell_type": "code",
   "execution_count": 2,
   "metadata": {
    "collapsed": false
   },
   "outputs": [
    {
     "data": {
      "text/plain": [
       "22063329.928498466"
      ]
     },
     "execution_count": 2,
     "metadata": {},
     "output_type": "execute_result"
    }
   ],
   "source": [
    "108*10**(-3)/(0.89*11/(2*10**9))"
   ]
  },
  {
   "cell_type": "markdown",
   "metadata": {},
   "source": [
    "### Q2: Fibonacci... again."
   ]
  },
  {
   "cell_type": "markdown",
   "metadata": {},
   "source": [
    "#### Part 1: Do it."
   ]
  },
  {
   "cell_type": "code",
   "execution_count": 3,
   "metadata": {
    "collapsed": false
   },
   "outputs": [
    {
     "name": "stdout",
     "output_type": "stream",
     "text": [
      "Writing fibonacci.c\n"
     ]
    }
   ],
   "source": [
    "%%file fibonacci.c\n",
    "#include <stdio.h>\n",
    "\n",
    "int main(int argc, char** argv)\n",
    "{\n",
    "    printf(\"fib(8) = %d\",fib(8));\n",
    "    return 0;\n",
    "}\n",
    "\n",
    "int fib(int n)\n",
    "{\n",
    "  if (n==1)\n",
    "    return 0;\n",
    "  if (n==2)\n",
    "    return 1;\n",
    "  else\n",
    "    return (fib(n-1)+fib(n-2));\n",
    "}\n"
   ]
  },
  {
   "cell_type": "code",
   "execution_count": 4,
   "metadata": {
    "collapsed": true
   },
   "outputs": [],
   "source": [
    "!gcc -o fibonacci fibonacci.c"
   ]
  },
  {
   "cell_type": "code",
   "execution_count": 5,
   "metadata": {
    "collapsed": false
   },
   "outputs": [
    {
     "name": "stdout",
     "output_type": "stream",
     "text": [
      "fib(8) = 13\n"
     ]
    }
   ],
   "source": [
    "!fibonacci"
   ]
  },
  {
   "cell_type": "markdown",
   "metadata": {},
   "source": [
    "#### Part 2: Inspecting the stack"
   ]
  },
  {
   "cell_type": "code",
   "execution_count": 7,
   "metadata": {
    "collapsed": false
   },
   "outputs": [],
   "source": [
    "!gcc -g -o fibonacci fibonacci.c"
   ]
  },
  {
   "cell_type": "markdown",
   "metadata": {
    "collapsed": false
   },
   "source": [
    "There were 7 stack frames (including main). The current value of $n$ is 2."
   ]
  },
  {
   "cell_type": "markdown",
   "metadata": {
    "collapsed": true
   },
   "source": [
    "### Q3: Crafting a buffer overflow attack"
   ]
  },
  {
   "cell_type": "markdown",
   "metadata": {},
   "source": [
    "#### Part 1: Get familiar"
   ]
  },
  {
   "cell_type": "code",
   "execution_count": 1,
   "metadata": {
    "collapsed": false
   },
   "outputs": [
    {
     "name": "stdout",
     "output_type": "stream",
     "text": [
      "Writing overflow.c\n"
     ]
    }
   ],
   "source": [
    "%%file overflow.c\n",
    "// overflow.c\n",
    "#include <stdlib.h>\n",
    "#include <stdio.h>\n",
    "\n",
    "void win()\n",
    "{\n",
    "  printf(\"Success!\\n\");\n",
    "  exit(0);\n",
    "}\n",
    "\n",
    "int victim_function(int index)\n",
    "{\n",
    "  int64_t a[5] = {1,2,3,4,5};\n",
    "  a[index] = (int64_t)(&win);\n",
    "  return 0;\n",
    "}\n",
    "\n",
    "int main(int argc, char **argv)\n",
    "{\n",
    "  int magic_number = 0;\n",
    "\n",
    "  if( argc>1 ) {\n",
    "    magic_number = atoi(argv[1]);\n",
    "  } else {\n",
    "    printf(\"Please enter a magic number.\\n\");\n",
    "    return -1;\n",
    "  }\n",
    "\n",
    "  victim_function( magic_number );\n",
    "\n",
    "  return 0;\n",
    "}"
   ]
  },
  {
   "cell_type": "markdown",
   "metadata": {},
   "source": [
    "#### Part 2: Staking out the target"
   ]
  },
  {
   "cell_type": "markdown",
   "metadata": {},
   "source": [
    "(gdb) print/x a[0]@5\n",
    "\n",
    "{0x1, 0x2, 0x3, 0x4, 0x5}\n",
    "\n",
    "(gdb) next\n",
    "\n",
    "(gdb) print/x a[0]@5\n",
    "\n",
    "{0x1004010e0, 0x2, 0x3, 0x4, 0x5}\n"
   ]
  },
  {
   "cell_type": "markdown",
   "metadata": {},
   "source": [
    "#### Part 3: Springing the trap"
   ]
  },
  {
   "cell_type": "markdown",
   "metadata": {},
   "source": [
    "return address: {0x000000010040118f}\n",
    "\n",
    "The value of the offset relative to the start of the array is 7. The other function on the stack has name ?? and we get the error: \"Backtrace stopped: previous frame inner to this frame (corrupt stack?)\". I think the call stack looks like this because win is never explicitly called from a function rather it is called because we replaced a return address with its address. Therefore, the name of the function it was called from appears as unknown."
   ]
  }
 ],
 "metadata": {
  "kernelspec": {
   "display_name": "Python 3",
   "language": "python",
   "name": "python3"
  },
  "language_info": {
   "codemirror_mode": {
    "name": "ipython",
    "version": 3
   },
   "file_extension": ".py",
   "mimetype": "text/x-python",
   "name": "python",
   "nbconvert_exporter": "python",
   "pygments_lexer": "ipython3",
   "version": "3.5.1"
  }
 },
 "nbformat": 4,
 "nbformat_minor": 0
}
