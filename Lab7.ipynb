{
 "cells": [
  {
   "cell_type": "code",
   "execution_count": 1,
   "metadata": {
    "collapsed": false
   },
   "outputs": [
    {
     "name": "stdout",
     "output_type": "stream",
     "text": [
      "Overwriting TimeSeries_RKD.py\n"
     ]
    }
   ],
   "source": [
    "%%file TimeSeries_RKD.py\n",
    "import numpy as np\n",
    "\n",
    "class TimeSeries():\n",
    "    \"\"\" \n",
    "    TimeSeries class\n",
    "    ----------------\n",
    "    Instances of this class behave as sequences and the value of the only attribute of the \n",
    "    class is a list. Inputs to this class should be lists or arrays that can be cast as lists.\n",
    "    \n",
    "    Constructor\n",
    "    -----------\n",
    "    Takes as argument a type that can be cast as a list and sets the _data attribute of the \n",
    "    TimeSeries class instance to that list. \n",
    "    \n",
    "    __str___\n",
    "    --------\n",
    "    Returns a string for the output of the print statement acting on an instance of the \n",
    "    TimeSeries class that abbreviates the output by only printing the first 10 elements \n",
    "    followed by an ellipsis and the length of the list if the list used as input for the \n",
    "    class has more than 10 elements. Otherwise, the output of the print statement uses \n",
    "    the whole list.\n",
    "    \n",
    "    Examples\n",
    "    --------\n",
    "    >>> threes = TimeSeries(range(0,10000,3))\n",
    "    >>> print(threes)\n",
    "    TimeSeries: [0, 3, 6, 9, 12, 15, 18, 21, 24, 27, ...], length=3334\n",
    "    \"\"\"\n",
    "    def __init__(self, data):\n",
    "        self.data = list(data)\n",
    "        \n",
    "    def __len__(self):\n",
    "        return len(self.data)\n",
    "    \n",
    "    def __getitem__(self, position):\n",
    "        return (self.data[position])\n",
    "        \n",
    "    def __setitem__(self, position, value):\n",
    "        if position < len(self) and position >= 0:\n",
    "            self.data[position] = value\n",
    "        else:\n",
    "            raise IndexError(\"Out of bounds.\")  \n",
    "    \n",
    "    def __str__(self):\n",
    "        class_name = type(self).__name__\n",
    "        if len(self) > 10:\n",
    "            components = self.data[:10]\n",
    "            string = '{}: ['.format(class_name)\n",
    "            string += ('{}, '*10).format(*components)\n",
    "            string += '...], length = {}'.format(len(self))\n",
    "            return string\n",
    "        else:\n",
    "            components = self.data\n",
    "            return '{}: {}'.format(class_name, components)\n",
    "    \n",
    "    \n",
    "    def __repr__(self):\n",
    "        class_name = type(self).__name__\n",
    "        if len(self) > 10:\n",
    "            components = self.data[:10]\n",
    "            string = '{}(['.format(class_name)\n",
    "            string += ('{}, '*10).format(*components)\n",
    "            string += '...], length = {})'.format(len(self))\n",
    "            return string\n",
    "        else:\n",
    "            components = self.data\n",
    "            return '{}({})'.format(class_name, components)\n",
    "\n",
    "class ArrayTimeSeries(TimeSeries):\n",
    "    def __init__(self,data):\n",
    "        self.data=np.array(data)\n",
    "    "
   ]
  },
  {
   "cell_type": "code",
   "execution_count": 5,
   "metadata": {
    "collapsed": false
   },
   "outputs": [
    {
     "name": "stdout",
     "output_type": "stream",
     "text": [
      "ArrayTimeSeries: [0, 3, 6, 9, 12, 15, 18, 21, 24, 27, ...], length = 3334\n"
     ]
    }
   ],
   "source": [
    "print(ArrayTimeSeries(range(0,10000,3)))"
   ]
  },
  {
   "cell_type": "code",
   "execution_count": 3,
   "metadata": {
    "collapsed": false
   },
   "outputs": [
    {
     "name": "stdout",
     "output_type": "stream",
     "text": [
      "sum 233168\n"
     ]
    }
   ],
   "source": [
    "from TimeSeries_RKD import ArrayTimeSeries\n",
    "threes = TimeSeries(range(0,1000,3))\n",
    "fives = TimeSeries(range(0,1000,5))\n",
    "\n",
    "s = 0\n",
    "for i in range(0,1000):\n",
    "    if i in threes or i in fives:\n",
    "        s += i\n",
    "\n",
    "print(\"sum\",s)"
   ]
  },
  {
   "cell_type": "code",
   "execution_count": null,
   "metadata": {
    "collapsed": true
   },
   "outputs": [],
   "source": []
  }
 ],
 "metadata": {
  "kernelspec": {
   "display_name": "Python 3",
   "language": "python",
   "name": "python3"
  },
  "language_info": {
   "codemirror_mode": {
    "name": "ipython",
    "version": 3
   },
   "file_extension": ".py",
   "mimetype": "text/x-python",
   "name": "python",
   "nbconvert_exporter": "python",
   "pygments_lexer": "ipython3",
   "version": "3.5.1"
  }
 },
 "nbformat": 4,
 "nbformat_minor": 0
}
