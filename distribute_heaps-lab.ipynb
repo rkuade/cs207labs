{
 "cells": [
  {
   "cell_type": "markdown",
   "metadata": {
    "collapsed": true
   },
   "source": [
    "## Q1.  Max heap\n",
    "\n",
    "Implement a max heap instead of a min heap, by having the constructor explicitly pass the \"comparison\" operator in. Replace `min` and `del_min` by `dominant` and `del_dominant` methods. Change the classmethods to also take in the operator."
   ]
  },
  {
   "cell_type": "code",
   "execution_count": 9,
   "metadata": {
    "collapsed": false
   },
   "outputs": [],
   "source": [
    "#your code here\n",
    "from operator import gt, lt\n",
    "def dotify(l, fname):\n",
    "    start = \"\"\"\n",
    "    digraph G {\n",
    "    nodesep=0.3;\n",
    "    ranksep=0.2;\n",
    "    margin=0.1;\n",
    "    node [shape=circle];\n",
    "    edge [arrowsize=0.8];\n",
    "    \"\"\"\n",
    "    end = \"}\"\n",
    "    labels=dict(enumerate(l))\n",
    "    for i, v in labels.items():\n",
    "        if i!=0 and 2*i < len(l):\n",
    "            line1 = \"{} -> {}[side=left];\\n\".format(i, 2*i)\n",
    "        else:\n",
    "            line1=\"\"\n",
    "        if i!=0 and 2*i + 1 < len(l):\n",
    "            line2 = \"{} -> {};\\n\".format(i, 2*i+1)\n",
    "        else:\n",
    "            line2 = \"\"\n",
    "        start = start + line1 + line2\n",
    "    end = \"\\n\".join(\"{}[label=\\\"{}\\\"]\".format(i, labels[i]) for i in labels if i!=0) + end\n",
    "    with open(fname+\".dot\",\"w\") as fd:\n",
    "        fd.write(start+end)\n",
    "    subprocess.call(['./treeplot.sh', fname])\n",
    "    \n",
    "class BinaryHeap:\n",
    "    def __init__(self, storage = None,compar_oper = gt):\n",
    "        if storage:\n",
    "            self.storage = [None]+list(storage)\n",
    "            self.upto = len(storage)\n",
    "            self.operator = compar_oper\n",
    "        else:\n",
    "            self.storage=[None]\n",
    "            self.upto = 0\n",
    "        \n",
    "    @classmethod\n",
    "    def heapify_slow(cls, it):\n",
    "        inst = cls()\n",
    "        for i in it:\n",
    "            inst.insert(i)\n",
    "        return inst\n",
    "    \n",
    "    def heapify(self,storage=None, compar_oper=gt):\n",
    "        for i in range(1,self.upto + 1):\n",
    "            #dotify(self.storage, \"img\"+str(i).zfill(2))\n",
    "            self.sift_up(i)\n",
    "            #dotify(self.storage, \"img\"+str(i).zfill(2)+'_a')\n",
    "        \n",
    "    def insert(self, value):\n",
    "        self.storage.append(value)\n",
    "        self.upto += 1\n",
    "        #dotify(self.storage, \"img\"+str(self.upto).zfill(2))\n",
    "        self.sift_up(self.upto)\n",
    "        #dotify(self.storage, \"img\"+str(self.upto).zfill(2)+'_a')\n",
    "\n",
    "    def sift_up(self, i):\n",
    "        parent = i // 2\n",
    "        if parent > 0 and self.compar_oper(self.storage[i], self.storage[parent]):\n",
    "            self.storage[i], self.storage[parent] = self.storage[parent], self.storage[i]\n",
    "            self.sift_up(parent)\n",
    "            \n",
    "    def dominant(self):\n",
    "        return self.storage[1]\n",
    "        \n",
    "            \n",
    "     \n",
    "    def _min_child(self, i):\n",
    "        if 2*i + 1 > self.upto:\n",
    "            return 2*i\n",
    "        else:\n",
    "            l = (self.storage[2*i], self.storage[2*1+1])\n",
    "            return 2*i + l.index(min(l))\n",
    "    \n",
    "    def sift_down(self, i):\n",
    "        dotify(self.storage, \"delimg\"+str(i).zfill(2))\n",
    "        if 2*i <= self.upto:\n",
    "            child = self._min_child(i)\n",
    "            if self.compar_oper(self.storage[i],self.storage[child]):\n",
    "                self.storage[child], self.storage[i] = self.storage[i], self.storage[child]\n",
    "                self.sift_down(child)\n",
    "            \n",
    "    def delmin(self):\n",
    "        maxval = self.storage[1]\n",
    "        self.storage[1], self.storage[self.upto] = self.storage[self.upto], self.storage[1]\n",
    "        self.storage.pop()\n",
    "        self.upto -= 1\n",
    "        self.sift_down(1)\n",
    "        return maxval"
   ]
  },
  {
   "cell_type": "markdown",
   "metadata": {},
   "source": [
    "Lets use your code to find the minimum as well as the maximum of the old array. Run the code in the following cells and make sure you did it right..."
   ]
  },
  {
   "cell_type": "code",
   "execution_count": 10,
   "metadata": {
    "collapsed": true
   },
   "outputs": [],
   "source": [
    "data = [1,8,5,9,23,2,45,6,7,99,-5]"
   ]
  },
  {
   "cell_type": "code",
   "execution_count": 11,
   "metadata": {
    "collapsed": false
   },
   "outputs": [
    {
     "ename": "AttributeError",
     "evalue": "'list' object has no attribute 'upto'",
     "output_type": "error",
     "traceback": [
      "\u001b[0;31m---------------------------------------------------------------------------\u001b[0m",
      "\u001b[0;31mAttributeError\u001b[0m                            Traceback (most recent call last)",
      "\u001b[0;32m<ipython-input-11-6425d149c46b>\u001b[0m in \u001b[0;36m<module>\u001b[0;34m()\u001b[0m\n\u001b[1;32m      1\u001b[0m \u001b[0;32mfrom\u001b[0m \u001b[0moperator\u001b[0m \u001b[0;32mimport\u001b[0m \u001b[0mgt\u001b[0m\u001b[0;34m,\u001b[0m \u001b[0mlt\u001b[0m\u001b[0;34m\u001b[0m\u001b[0m\n\u001b[0;32m----> 2\u001b[0;31m \u001b[0mbh\u001b[0m \u001b[0;34m=\u001b[0m \u001b[0mBinaryHeap\u001b[0m\u001b[0;34m.\u001b[0m\u001b[0mheapify\u001b[0m\u001b[0;34m(\u001b[0m\u001b[0mdata\u001b[0m\u001b[0;34m,\u001b[0m \u001b[0mlt\u001b[0m\u001b[0;34m)\u001b[0m\u001b[0;34m\u001b[0m\u001b[0m\n\u001b[0m\u001b[1;32m      3\u001b[0m \u001b[0mprint\u001b[0m\u001b[0;34m(\u001b[0m\u001b[0mbh\u001b[0m\u001b[0;34m.\u001b[0m\u001b[0mstorage\u001b[0m\u001b[0;34m)\u001b[0m\u001b[0;34m\u001b[0m\u001b[0m\n\u001b[1;32m      4\u001b[0m \u001b[0mbh\u001b[0m\u001b[0;34m.\u001b[0m\u001b[0mdominant\u001b[0m\u001b[0;34m(\u001b[0m\u001b[0;34m)\u001b[0m\u001b[0;34m\u001b[0m\u001b[0m\n",
      "\u001b[0;32m<ipython-input-9-14e009de072f>\u001b[0m in \u001b[0;36mheapify\u001b[0;34m(self, storage, compar_oper)\u001b[0m\n\u001b[1;32m     45\u001b[0m \u001b[0;34m\u001b[0m\u001b[0m\n\u001b[1;32m     46\u001b[0m     \u001b[0;32mdef\u001b[0m \u001b[0mheapify\u001b[0m\u001b[0;34m(\u001b[0m\u001b[0mself\u001b[0m\u001b[0;34m,\u001b[0m\u001b[0mstorage\u001b[0m\u001b[0;34m=\u001b[0m\u001b[0;32mNone\u001b[0m\u001b[0;34m,\u001b[0m \u001b[0mcompar_oper\u001b[0m\u001b[0;34m=\u001b[0m\u001b[0mgt\u001b[0m\u001b[0;34m)\u001b[0m\u001b[0;34m:\u001b[0m\u001b[0;34m\u001b[0m\u001b[0m\n\u001b[0;32m---> 47\u001b[0;31m         \u001b[0;32mfor\u001b[0m \u001b[0mi\u001b[0m \u001b[0;32min\u001b[0m \u001b[0mrange\u001b[0m\u001b[0;34m(\u001b[0m\u001b[0;36m1\u001b[0m\u001b[0;34m,\u001b[0m\u001b[0mself\u001b[0m\u001b[0;34m.\u001b[0m\u001b[0mupto\u001b[0m \u001b[0;34m+\u001b[0m \u001b[0;36m1\u001b[0m\u001b[0;34m)\u001b[0m\u001b[0;34m:\u001b[0m\u001b[0;34m\u001b[0m\u001b[0m\n\u001b[0m\u001b[1;32m     48\u001b[0m             \u001b[0;31m#dotify(self.storage, \"img\"+str(i).zfill(2))\u001b[0m\u001b[0;34m\u001b[0m\u001b[0;34m\u001b[0m\u001b[0m\n\u001b[1;32m     49\u001b[0m             \u001b[0mself\u001b[0m\u001b[0;34m.\u001b[0m\u001b[0msift_up\u001b[0m\u001b[0;34m(\u001b[0m\u001b[0mi\u001b[0m\u001b[0;34m)\u001b[0m\u001b[0;34m\u001b[0m\u001b[0m\n",
      "\u001b[0;31mAttributeError\u001b[0m: 'list' object has no attribute 'upto'"
     ]
    }
   ],
   "source": [
    "from operator import gt, lt\n",
    "bh = BinaryHeap.heapify(data, lt)\n",
    "print(bh.storage)\n",
    "bh.dominant()"
   ]
  },
  {
   "cell_type": "code",
   "execution_count": 32,
   "metadata": {
    "collapsed": false
   },
   "outputs": [],
   "source": [
    "bh = BinaryHeap.heapify(data, gt)\n",
    "print(bh.storage)\n",
    "bh.dominant()"
   ]
  },
  {
   "cell_type": "markdown",
   "metadata": {},
   "source": [
    "## Q2. Heapsort\n",
    "\n",
    "Heapsort is an algorithm that takes the idea of the selection sort algorithm and replces the inner loop by the use of a max-heap."
   ]
  },
  {
   "cell_type": "code",
   "execution_count": 33,
   "metadata": {
    "collapsed": true
   },
   "outputs": [],
   "source": [
    "def selection_sort(A):\n",
    "    for i in range(len(A)):\n",
    "        print(\"<<<\",A)\n",
    "        min_index = i\n",
    "        for j in range(i+1, len(A)):\n",
    "            if A[j] < A[min_index]:\n",
    "                min_index = j\n",
    "        A[i], A[min_index] = A[min_index], A[i]\n",
    "        print(\">>>\",A)"
   ]
  },
  {
   "cell_type": "code",
   "execution_count": 34,
   "metadata": {
    "collapsed": false
   },
   "outputs": [],
   "source": [
    "selection_sort(data)"
   ]
  },
  {
   "cell_type": "markdown",
   "metadata": {},
   "source": [
    "The basic idea is this. First heapify the entire array. The max should then be the 1st element (save our placeholder None) of the heap's storage. Swap this max with the last element to store the maximum at the end. Now you've put in some new wierd value at the top of the heap and have lost the heap property. You have an additional element at the end.\n",
    "\n",
    "In-place in the array, without making any additional allocations, consider all but the last element to be the new \"heap\". What method in the heap class must we use to restore the heap property?\n",
    "\n",
    "Use this method to sort the array. Print the before and after for each iteration of the outer loop as above. What is the $O(n)$ for this method?"
   ]
  },
  {
   "cell_type": "code",
   "execution_count": 35,
   "metadata": {
    "collapsed": false
   },
   "outputs": [],
   "source": [
    "#your code here\n"
   ]
  },
  {
   "cell_type": "code",
   "execution_count": 36,
   "metadata": {
    "collapsed": false
   },
   "outputs": [],
   "source": [
    "heap_sort(data)"
   ]
  },
  {
   "cell_type": "markdown",
   "metadata": {},
   "source": [
    "*your answer here*\n"
   ]
  },
  {
   "cell_type": "markdown",
   "metadata": {},
   "source": [
    "## Q3. Median maintenance\n",
    "\n",
    "Median maintenance is a very cool algorithm to find an online median. \n",
    "\n",
    "We create two arrays to test our implementation, using `np.median` to compute our answer..."
   ]
  },
  {
   "cell_type": "code",
   "execution_count": 42,
   "metadata": {
    "collapsed": false
   },
   "outputs": [],
   "source": [
    "import random\n",
    "import numpy as np"
   ]
  },
  {
   "cell_type": "code",
   "execution_count": 51,
   "metadata": {
    "collapsed": false
   },
   "outputs": [],
   "source": [
    "l = [random.randint(1,1000) for _ in range(150)]\n",
    "print(len(l), np.median(l))\n",
    "l2 = l + [random.randint(1,1000)]\n",
    "print(len(l2), np.median(l2))"
   ]
  },
  {
   "cell_type": "markdown",
   "metadata": {},
   "source": [
    "You will implement `def online_median(iterator)` which is a generaor yielding successive values of your online median. \n",
    "\n",
    "The algorithm is as follows:\n",
    "\n",
    "We'll use 2 heaps, a max heap for the lower half of the data, and a min-heap for the upper half. We take the first 2values in our data and assign the smaller value to the max heap, while the larger value goes to the min-heap. Then, as we \"insert\" subsequent values in one of the two heaps, the following holds: if we keep the number of elements in both heaps equal (for the even case) or at-most differing by one, the median is respectively the average of the two dominants or the dominant in the heap with one xtra item.\n",
    "\n",
    "What then is our strategy for this balanced insertion? Quite simple really: if a new value is not as dominant as the dominant value, add it to that heap. If it is more dominant, add it to the other. If two items in a row get added to the same heap, the heaps will be out of balance by more than one. In this case, take the dominant element from the larger heap and simply add it to the smaller one."
   ]
  },
  {
   "cell_type": "code",
   "execution_count": 56,
   "metadata": {
    "collapsed": false
   },
   "outputs": [],
   "source": [
    "#your code here\n"
   ]
  },
  {
   "cell_type": "markdown",
   "metadata": {},
   "source": [
    "Do your answers match?"
   ]
  },
  {
   "cell_type": "code",
   "execution_count": 63,
   "metadata": {
    "collapsed": false
   },
   "outputs": [],
   "source": [
    "%matplotlib inline\n",
    "import matplotlib.pyplot as plt\n",
    "medians = list(online_median(iter(l)))\n",
    "print(medians[-1])\n",
    "plt.plot(medians)"
   ]
  },
  {
   "cell_type": "code",
   "execution_count": 64,
   "metadata": {
    "collapsed": false
   },
   "outputs": [],
   "source": [
    "list(online_median(iter(l2)))[-1]"
   ]
  },
  {
   "cell_type": "markdown",
   "metadata": {},
   "source": [
    "What is the $O(n)$ behavior of this median maintenance algorithm?"
   ]
  },
  {
   "cell_type": "markdown",
   "metadata": {},
   "source": [
    "*your answer here*\n"
   ]
  },
  {
   "cell_type": "markdown",
   "metadata": {},
   "source": [
    "Lastly, lets repeat the analysis we did last time on the randomly generated data."
   ]
  },
  {
   "cell_type": "code",
   "execution_count": 66,
   "metadata": {
    "collapsed": true
   },
   "outputs": [],
   "source": [
    "from random import normalvariate, random\n",
    "from itertools import count\n",
    "def make_data(m, stop=None):\n",
    "    for _ in count():\n",
    "        if stop and _ > stop:\n",
    "            break\n",
    "        yield 1.0e09 + normalvariate(0, m*random() )"
   ]
  },
  {
   "cell_type": "code",
   "execution_count": 68,
   "metadata": {
    "collapsed": false
   },
   "outputs": [],
   "source": [
    "g = online_median(make_data(5, 100))\n",
    "print(type(g))\n",
    "out = list(g)\n",
    "out[-10:]"
   ]
  },
  {
   "cell_type": "code",
   "execution_count": 69,
   "metadata": {
    "collapsed": false
   },
   "outputs": [],
   "source": [
    "plt.plot(out)"
   ]
  }
 ],
 "metadata": {
  "kernelspec": {
   "display_name": "Python 3",
   "language": "python",
   "name": "python3"
  },
  "language_info": {
   "codemirror_mode": {
    "name": "ipython",
    "version": 3
   },
   "file_extension": ".py",
   "mimetype": "text/x-python",
   "name": "python",
   "nbconvert_exporter": "python",
   "pygments_lexer": "ipython3",
   "version": "3.5.1"
  }
 },
 "nbformat": 4,
 "nbformat_minor": 0
}
