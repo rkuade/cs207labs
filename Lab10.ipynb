{
 "cells": [
  {
   "cell_type": "code",
   "execution_count": 47,
   "metadata": {
    "collapsed": false
   },
   "outputs": [],
   "source": [
    "#import timeseries as ts\n",
    "#import lazy\n",
    "\n",
    "def add(a,b):\n",
    "    return a+b\n",
    "\n",
    "def mul(a,b):\n",
    "    return a*b\n",
    "\n",
    "class LazyOperation():\n",
    "    def __init__(self,function,*args,**kwargs):\n",
    "        self.function = function\n",
    "        self.args = args\n",
    "        self.kwargs = kwargs\n",
    "    def __str__(self):\n",
    "        class_name = type(self).__name__\n",
    "        function_name = self.function.__name__\n",
    "        str_return = \"{}( {}, args = {}, kwargs = {} )\".format(class_name, function_name, self.args, self.kwargs)\n",
    "        return str_return\n",
    "    def eval(self):\n",
    "        l = []\n",
    "        for arg in self.args:\n",
    "            if type(arg).__name__ == type(self).__name__:\n",
    "                l += [arg.eval()]\n",
    "            else:\n",
    "                l += [arg]\n",
    "        self.args = tuple(l)\n",
    "        for kwarg in self.kwargs:\n",
    "            if type(self.kwargs[kwarg]).__name__ == type(self).__name__:\n",
    "                self.kwargs[kwarg] = self.kwargs[kwarg].eval()\n",
    "        return self.function(*self.args,**self.kwargs)\n",
    "\n",
    "\n",
    "def lazy(f):\n",
    "    def inner(*args,**kwargs):\n",
    "        inner.__name__ = f.__name__\n",
    "        lazy_fun = LazyOperation(f,*args,**kwargs)\n",
    "        return lazy_fun\n",
    "    return inner\n",
    "\n",
    "@lazy\n",
    "def lazy_add(a,b):\n",
    "    return a+b\n",
    "\n",
    "@lazy\n",
    "def lazy_mul(a,b):\n",
    "    return a*b\n",
    "\n",
    "\n"
   ]
  },
  {
   "cell_type": "code",
   "execution_count": 39,
   "metadata": {
    "collapsed": false
   },
   "outputs": [
    {
     "name": "stdout",
     "output_type": "stream",
     "text": [
      "LazyOperation( add, args = (1, 2), kwargs = {} )\n",
      "True\n",
      "LazyOperation( lazy_add, args = (1, 2), kwargs = {} )\n"
     ]
    }
   ],
   "source": [
    "test = LazyOperation(add,1,2)\n",
    "print(test)\n",
    "q=4\n",
    "print(isinstance(lazy_add(1,2),LazyOperation) ==True)\n",
    "print(lazy_add(1,2))"
   ]
  },
  {
   "cell_type": "code",
   "execution_count": 48,
   "metadata": {
    "collapsed": false
   },
   "outputs": [
    {
     "data": {
      "text/plain": [
       "12"
      ]
     },
     "execution_count": 48,
     "metadata": {},
     "output_type": "execute_result"
    }
   ],
   "source": [
    "thunk = lazy_mul(lazy_add(1,2),4)\n",
    "thunk.eval()"
   ]
  },
  {
   "cell_type": "code",
   "execution_count": null,
   "metadata": {
    "collapsed": true
   },
   "outputs": [],
   "source": []
  }
 ],
 "metadata": {
  "kernelspec": {
   "display_name": "Python 3",
   "language": "python",
   "name": "python3"
  },
  "language_info": {
   "codemirror_mode": {
    "name": "ipython",
    "version": 3
   },
   "file_extension": ".py",
   "mimetype": "text/x-python",
   "name": "python",
   "nbconvert_exporter": "python",
   "pygments_lexer": "ipython3",
   "version": "3.5.1"
  }
 },
 "nbformat": 4,
 "nbformat_minor": 0
}
