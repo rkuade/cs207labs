{
 "cells": [
  {
   "cell_type": "markdown",
   "metadata": {
    "collapsed": true
   },
   "source": [
    "## Q1.\n",
    "\n",
    "Add methods `__iter__` to your project Time Series class to iterate over values, a method `itertimes` to iterate over times, a method `itervalues` to iterate over values, and a method `iteritems` to iterate over time-value pairs. (This is a similar interface to python dictionaries). To test these, check both the types of the results and the answers you expect."
   ]
  },
  {
   "cell_type": "code",
   "execution_count": 1,
   "metadata": {
    "collapsed": true
   },
   "outputs": [],
   "source": [
    "#your code here\n",
    "import numpy as np\n",
    "\n",
    "def f(a):\n",
    "    return a\n",
    "\n",
    "class LazyOperation():\n",
    "    \"\"\"\n",
    "    An class that takes a function and an arbitrary number of positional arguments \n",
    "    or keyword arguments as input\n",
    "    \n",
    "    Parameters\n",
    "    ----------\n",
    "    function : an arbitrary function\n",
    "    args : arbitrary positional arguments\n",
    "    kwargs : arbitrary keyword arguments\n",
    "   \n",
    "    Returns\n",
    "    -------\n",
    "    eval(LazyOperation): value\n",
    "        a value representing the result of evaluating function with arguments args and kwargs\n",
    "    __str__ / __repr__:\n",
    "        when printing LazyOperation, the class name is printed followed by the function name,\n",
    "        the positional arguments and the keyword arguments \n",
    "    \n",
    "    Examples\n",
    "    --------\n",
    "    >>> a = TimeSeries([0,5,10], [1,2,3])\n",
    "    >>> b = TimeSeries([1,2,3], [5,8,9])\n",
    "    >>> thunk = check_length(a,b)\n",
    "    >>> thunk.eval()\n",
    "    True\n",
    "    >>> assert isinstance( lazy_add(1,2), LazyOperation ) == True\n",
    "    >>> thunk = lazy_mul( lazy_add(1,2), 4)\n",
    "    >>> thunk.eval()\n",
    "    12\n",
    "    \"\"\"\n",
    "      \n",
    "    def __init__(self,function,*args,**kwargs):\n",
    "        self.function = function\n",
    "        self.args = args\n",
    "        self.kwargs = kwargs\n",
    "    def __str__(self):\n",
    "        class_name = type(self).__name__\n",
    "        function_name = self.function.__name__\n",
    "        str_return = \"{}( {}, args = {}, kwargs = {} )\".format(class_name, function_name, self.args, self.kwargs)\n",
    "        return str_return\n",
    "    def eval(self):\n",
    "        l = []\n",
    "        for arg in self.args:\n",
    "            if type(arg).__name__ == type(self).__name__:\n",
    "                l += [arg.eval()]\n",
    "            else:\n",
    "                l += [arg]\n",
    "        self.args = tuple(l)\n",
    "        for kwarg in self.kwargs:\n",
    "            if type(self.kwargs[kwarg]).__name__ == type(self).__name__:\n",
    "                self.kwargs[kwarg] = self.kwargs[kwarg].eval()\n",
    "        return self.function(*self.args,**self.kwargs)\n",
    "\n",
    "\n",
    "class TimeSeries(): \n",
    "    \"\"\"\n",
    "    An class that takes a sequence of integers or floats as input\n",
    "    \n",
    "    Parameters\n",
    "    ----------\n",
    "    data : any finite numeric sequence\n",
    "    time : any finite, monotonically increasing numeric sequence\n",
    "   \n",
    "    Returns\n",
    "    -------\n",
    "    len(TimeSeries): int\n",
    "        an integer representing the length of the time series\n",
    "    Timeseries[position:int]: number\n",
    "        returns the value of the TimeSeries at position\n",
    "    Timeseries[position:int] = value:int/float\n",
    "        set value of TimeSeries at position to be value\n",
    "    __str__ / __repr__:\n",
    "        when printing TimeSeries, if the total length of the Timeseries is greater than 10\n",
    "        the result shows the first ten elements and its total length, else it prints the \n",
    "        whole Timeseries\n",
    "        \n",
    "    Examples\n",
    "    --------\n",
    "    >>> a = TimeSeries([0,5,10], [1,2,3])\n",
    "    >>> threes = TimeSeries(range(100),range(100))\n",
    "    >>> len(a)\n",
    "    3\n",
    "    >>> a[10]\n",
    "    3\n",
    "    >>> a[10]=10\n",
    "    >>> a[10]\n",
    "    10\n",
    "    >>> print(a)\n",
    "    [(0, 1), (5, 2), (10, 10)]\n",
    "    >>> print(threes)\n",
    "    [(0, 0), (1, 1), (2, 2), (3, 3), (4, 4), (5, 5), (6, 6), (7, 7), (8, 8), (9, 9), ...], length=100\n",
    "    >>> [v for v in TimeSeries([0,1,2],[1,3,5])]\n",
    "    [1, 3, 5]\n",
    "    >>> a = TimeSeries([0,5,10], [1,2,3])\n",
    "    >>> b = TimeSeries([2.5,7.5], [100, -100])\n",
    "    >>> print(a.interpolate([1])) \n",
    "    [(1, 1.2)]\n",
    "    >>> print(a.interpolate(b.times()))\n",
    "    [(2.5, 1.5), (7.5, 2.5)]\n",
    "    >>> print(a.interpolate([-100,100]))\n",
    "    [(-100, 1.0), (100, 3.0)]\n",
    "    >>> b.mean()\n",
    "    0.0\n",
    "    >>> a.mean()\n",
    "    2.0\n",
    "    >>> a = TimeSeries([],[])\n",
    "    >>> a.mean()\n",
    "    nan\n",
    "    >>> a = TimeSeries([1,2],[1,'a'])\n",
    "    >>> a.mean()\n",
    "    Traceback (most recent call last):\n",
    "        ...\n",
    "    TypeError: cannot perform reduce with flexible type\n",
    "    \n",
    "    Notes\n",
    "    -----\n",
    "    PRE: `data` is numeric\n",
    "    \n",
    "    \"\"\"\n",
    "    def __init__(self,time,data):\n",
    "        if len(time)!=len(data):\n",
    "            raise \"Not the same length\"\n",
    "        self.time=np.array(time)\n",
    "        self.data=np.array(data)\n",
    "        self.index=0\n",
    "        self.len=len(time)\n",
    "        \n",
    "    def __len__(self):\n",
    "        return len(self.data)\n",
    "    def __getitem__(self, time):\n",
    "        if time in self.time:\n",
    "            return int(self.data[np.where(self.time==time)])\n",
    "        raise \"Time does not exist\"\n",
    "    def __setitem__(self,time,value):\n",
    "        if time not in self.time:\n",
    "             raise \"Time does not exist\"\n",
    "        self.data[np.where(self.time==time)]=value\n",
    "    def __contains__(self, time):\n",
    "        return time in self.time\n",
    "    def __next__(self): \n",
    "        try:\n",
    "            word = self.data[self.index] \n",
    "        except IndexError:\n",
    "            raise StopIteration() \n",
    "        self.index += 1\n",
    "        return word \n",
    "    def __iter__(self):\n",
    "        return self    \n",
    "    def itertimes(self):\n",
    "        return iter(self.time)\n",
    "    def itervalues(self):\n",
    "        return iter(self.data)\n",
    "    def iteritems(self):\n",
    "        return iter(list(zip(self.time,self.data)))\n",
    "    def __str__(self):\n",
    "        if self.len>10:\n",
    "            return '[{}, ...], length={}'.format(str(list(zip(self.time,self.data))[0:10])[1:-1], self.len)\n",
    "        return '{}'.format(list(zip(self.time,self.data)))\n",
    "    def __repr__(self):\n",
    "        if self.len>10:\n",
    "            return '[{}, ...], length={}'.format(str(list(zip(self.time,self.data))[0:10])[1:-1], self.len)\n",
    "        return '{}'.format(list(zip(self.time,self.data)))\n",
    "    def values(self):\n",
    "        return list(self.data)\n",
    "    def times(self):\n",
    "        return list(self.time)\n",
    "    def items(self):\n",
    "        return list(zip(self.time,self.data))\n",
    "    def interpolate(self,newtime):\n",
    "        newvalue=np.interp(newtime,self.time,self.data)\n",
    "        return TimeSeries(newtime,newvalue)\n",
    "    @property\n",
    "    def lazy(self):\n",
    "        lazy_fun = LazyOperation(f,self)\n",
    "        return lazy_fun\n",
    "    def mean(self):\n",
    "        return np.mean(self.data)\n",
    "    def median(self):\n",
    "        return np.median(self.data)\n"
   ]
  },
  {
   "cell_type": "markdown",
   "metadata": {},
   "source": [
    "## Q2.\n",
    "\n",
    "An online mean and standard deviation algorithm.\n",
    "\n",
    "Below is a function to generate a potentially infinite stream of 1-D data."
   ]
  },
  {
   "cell_type": "code",
   "execution_count": 3,
   "metadata": {
    "collapsed": false
   },
   "outputs": [],
   "source": [
    "from random import normalvariate, random\n",
    "from itertools import count\n",
    "def make_data(m, stop=None):\n",
    "    for _ in count():\n",
    "        if stop and _ > stop:\n",
    "            break\n",
    "        yield 1.0e09 + normalvariate(0, m*random() )\n",
    "        "
   ]
  },
  {
   "cell_type": "markdown",
   "metadata": {},
   "source": [
    "Here is an implementation of an online mean algorithm..see http://www.johndcook.com/blog/standard_deviation/ and the link to http://www.johndcook.com/blog/2008/09/26/comparing-three-methods-of-computing-standard-deviation/ in-between. (Convince yourselves of the formulas...)"
   ]
  },
  {
   "cell_type": "code",
   "execution_count": 2,
   "metadata": {
    "collapsed": true
   },
   "outputs": [],
   "source": [
    "def online_mean(iterator):\n",
    "    n = 0\n",
    "    mu = 0\n",
    "    for value in iterator:\n",
    "        n += 1\n",
    "        delta = value - mu\n",
    "        mu = mu + delta/n\n",
    "        yield mu"
   ]
  },
  {
   "cell_type": "markdown",
   "metadata": {},
   "source": [
    "We use out generator functions to implement iterators:"
   ]
  },
  {
   "cell_type": "code",
   "execution_count": 3,
   "metadata": {
    "collapsed": false
   },
   "outputs": [
    {
     "data": {
      "text/plain": [
       "[1000000006.314605,\n",
       " 999999996.4336594,\n",
       " 1000000000.9531634,\n",
       " 999999995.715105,\n",
       " 999999997.922358,\n",
       " 999999998.6563528,\n",
       " 1000000002.0435847,\n",
       " 1000000000.0359453,\n",
       " 1000000001.2967277,\n",
       " 1000000001.50001,\n",
       " 1000000000.1735404]"
      ]
     },
     "execution_count": 3,
     "metadata": {},
     "output_type": "execute_result"
    }
   ],
   "source": [
    "g = make_data(5, 10)\n",
    "list(g)"
   ]
  },
  {
   "cell_type": "code",
   "execution_count": 4,
   "metadata": {
    "collapsed": false
   },
   "outputs": [
    {
     "name": "stdout",
     "output_type": "stream",
     "text": [
      "<class 'generator'>\n"
     ]
    },
    {
     "data": {
      "text/plain": [
       "[1000000000.6555499,\n",
       " 999999998.6159835,\n",
       " 1000000001.1071713,\n",
       " 1000000000.9390246,\n",
       " 1000000000.323393,\n",
       " 1000000000.1634421,\n",
       " 999999999.4538594,\n",
       " 999999999.4331237,\n",
       " 999999999.8460852,\n",
       " 999999999.815531,\n",
       " 999999999.8424581,\n",
       " 1000000000.3945439,\n",
       " 1000000000.3868847,\n",
       " 1000000000.078794,\n",
       " 1000000000.1230247,\n",
       " 1000000000.1642759,\n",
       " 999999999.7851408,\n",
       " 999999999.8366209,\n",
       " 999999999.7881701,\n",
       " 999999999.820433,\n",
       " 999999999.8508124,\n",
       " 999999999.8567665,\n",
       " 999999999.9455887,\n",
       " 999999999.9456179,\n",
       " 999999999.9921421,\n",
       " 1000000000.2514474,\n",
       " 1000000000.3623946,\n",
       " 1000000000.3315352,\n",
       " 1000000000.3438259,\n",
       " 1000000000.2435598,\n",
       " 1000000000.115088,\n",
       " 1000000000.1365296,\n",
       " 1000000000.1571035,\n",
       " 1000000000.1563869,\n",
       " 1000000000.1282873,\n",
       " 1000000000.111607,\n",
       " 1000000000.0867754,\n",
       " 999999999.9948819,\n",
       " 999999999.9366332,\n",
       " 999999999.9505067,\n",
       " 1000000000.0718905,\n",
       " 1000000000.0922825,\n",
       " 1000000000.1421386,\n",
       " 1000000000.0197759,\n",
       " 1000000000.070217,\n",
       " 1000000000.1984698,\n",
       " 1000000000.1402993,\n",
       " 1000000000.112825,\n",
       " 1000000000.1026647,\n",
       " 1000000000.005134,\n",
       " 999999999.9653764,\n",
       " 999999999.9781098,\n",
       " 999999999.9740932,\n",
       " 999999999.9477087,\n",
       " 999999999.8620701,\n",
       " 999999999.9413489,\n",
       " 999999999.9304116,\n",
       " 999999999.8908397,\n",
       " 999999999.7321264,\n",
       " 999999999.7979583,\n",
       " 999999999.8031598,\n",
       " 999999999.8230612,\n",
       " 999999999.8225062,\n",
       " 999999999.8278328,\n",
       " 999999999.8364859,\n",
       " 999999999.8134798,\n",
       " 999999999.8072217,\n",
       " 999999999.8231757,\n",
       " 999999999.8524244,\n",
       " 999999999.9332012,\n",
       " 999999999.9577179,\n",
       " 999999999.9678015,\n",
       " 1000000000.0424733,\n",
       " 1000000000.0454628,\n",
       " 1000000000.01474,\n",
       " 1000000000.0688572,\n",
       " 999999999.9217052,\n",
       " 999999999.9448829,\n",
       " 999999999.918223,\n",
       " 999999999.948835,\n",
       " 999999999.9455752,\n",
       " 999999999.9923964,\n",
       " 1000000000.1039392,\n",
       " 1000000000.0610399,\n",
       " 1000000000.0620791,\n",
       " 1000000000.1066047,\n",
       " 1000000000.1145843,\n",
       " 1000000000.092834,\n",
       " 1000000000.102507,\n",
       " 1000000000.1019788,\n",
       " 1000000000.0575725,\n",
       " 1000000000.0413146,\n",
       " 1000000000.0424193,\n",
       " 1000000000.0255989,\n",
       " 1000000000.025795,\n",
       " 1000000000.0514174,\n",
       " 1000000000.0554413,\n",
       " 1000000000.0433949,\n",
       " 1000000000.0493494,\n",
       " 1000000000.0554221,\n",
       " 1000000000.0404493]"
      ]
     },
     "execution_count": 4,
     "metadata": {},
     "output_type": "execute_result"
    }
   ],
   "source": [
    "g = online_mean(make_data(5, 100))\n",
    "print(type(g))\n",
    "list(g)"
   ]
  },
  {
   "cell_type": "markdown",
   "metadata": {},
   "source": [
    "### 2.1\n",
    "\n",
    "Implement the standard deviation algorithm as a generator function as\n",
    "\n",
    "```python\n",
    "def online_mean_dev(iterator):\n",
    "    BLA BLA\n",
    "    if n > 1:\n",
    "        stddev = math.sqrt(dev_accum/(n-1))\n",
    "        yield (n, value, mu, stddev)\n",
    "```"
   ]
  },
  {
   "cell_type": "code",
   "execution_count": 1,
   "metadata": {
    "collapsed": false
   },
   "outputs": [],
   "source": [
    "# your code here\n",
    "import math\n",
    "\n",
    "def online_mean_dev(iterator):\n",
    "    n = 0\n",
    "    mu_1 = 0\n",
    "    mu = 0\n",
    "    dev_accum = 0\n",
    "    stddev = 0\n",
    "    for value in iterator:\n",
    "        n += 1\n",
    "        delta = value - mu\n",
    "        mu = mu + delta/n\n",
    "        prod = (value-mu)*(value-mu_1)\n",
    "        dev_accum = dev_accum + prod\n",
    "        mu_1 = mu\n",
    "        if n > 1:\n",
    "            stddev = math.sqrt(dev_accum/(n-1))\n",
    "        yield (n, value, mu, stddev)"
   ]
  },
  {
   "cell_type": "markdown",
   "metadata": {},
   "source": [
    "Here we make 100000 element data, and run this iterator on it (imagine running this on a time-series being slowly read from disk"
   ]
  },
  {
   "cell_type": "code",
   "execution_count": 4,
   "metadata": {
    "collapsed": false
   },
   "outputs": [],
   "source": [
    "data_with_stats = online_mean_dev(make_data(5, 100000))"
   ]
  },
  {
   "cell_type": "markdown",
   "metadata": {},
   "source": [
    "## Q3.\n",
    "\n",
    "Let's do Anomaly detection. Write a routine `is_ok`:\n",
    "\n",
    "```python\n",
    "def is_ok(level, t)\n",
    "```\n",
    "\n",
    "which takes a tuple like the one yielded by your code above and returns True if the value is inbetween `level`-$\\sigma$ of the mean."
   ]
  },
  {
   "cell_type": "code",
   "execution_count": 5,
   "metadata": {
    "collapsed": true
   },
   "outputs": [],
   "source": [
    "#your code here\n",
    "def is_ok(level, t):\n",
    "    return abs(t[1]-t[2])<level*t[3]"
   ]
  },
  {
   "cell_type": "markdown",
   "metadata": {},
   "source": [
    "We use this function to create a predicate passed through to `itertools.filterfalse` which is then used to obtain an iterator on the anomalies."
   ]
  },
  {
   "cell_type": "code",
   "execution_count": 6,
   "metadata": {
    "collapsed": true
   },
   "outputs": [],
   "source": [
    "from itertools import filterfalse\n",
    "pred = lambda t: is_ok(5, t)\n",
    "anomalies = filterfalse(pred, data_with_stats)"
   ]
  },
  {
   "cell_type": "markdown",
   "metadata": {},
   "source": [
    "We materialize the anomalies..."
   ]
  },
  {
   "cell_type": "code",
   "execution_count": 7,
   "metadata": {
    "collapsed": false
   },
   "outputs": [
    {
     "data": {
      "text/plain": [
       "[(1, 999999999.176625, 999999999.176625, 0),\n",
       " (574, 999999983.051715, 999999999.7618436, 2.704800815397957),\n",
       " (5153, 999999985.3988851, 1000000000.0002209, 2.8417100980236025),\n",
       " (5532, 999999982.7866411, 999999999.999632, 2.8428429006777067),\n",
       " (17300, 1000000016.6331859, 999999999.9925722, 2.8890504516759563),\n",
       " (17436, 1000000015.7864918, 999999999.9947761, 2.8889208631440213),\n",
       " (21227, 1000000016.4147807, 1000000000.0182651, 2.8844093589615025),\n",
       " (22975, 1000000016.0196469, 1000000000.011229, 2.8847940230733164),\n",
       " (29494, 1000000014.6769202, 1000000000.0093426, 2.8866206630287095),\n",
       " (35561, 999999983.3230298, 1000000000.0103108, 2.8920581483484114),\n",
       " (37168, 1000000017.5324371, 1000000000.013758, 2.894186009415034),\n",
       " (45226, 999999984.8223218, 1000000000.0123392, 2.880571573957378),\n",
       " (47281, 999999983.1965386, 1000000000.012435, 2.882349574968632),\n",
       " (47922, 1000000015.0698524, 1000000000.011265, 2.880052450530381),\n",
       " (52177, 1000000014.811474, 1000000000.0109954, 2.8798516229272546),\n",
       " (56341, 999999984.9062722, 1000000000.013007, 2.87832908746573),\n",
       " (57709, 999999985.2682447, 1000000000.0123436, 2.878437675612304),\n",
       " (58480, 999999985.5799752, 1000000000.0111284, 2.8776155287727043),\n",
       " (61539, 999999984.7107452, 1000000000.0066984, 2.879526259441996),\n",
       " (63076, 1000000016.1894469, 1000000000.0050329, 2.8849117636133017),\n",
       " (68173, 999999983.9205487, 1000000000.0062295, 2.88112030247925),\n",
       " (69073, 1000000015.8971485, 1000000000.0066315, 2.8816979926234034),\n",
       " (69443, 999999985.4764786, 1000000000.0065448, 2.881493843675433),\n",
       " (70696, 999999985.5557219, 1000000000.005562, 2.8833808657222004),\n",
       " (72888, 999999984.8975283, 1000000000.0047109, 2.881213718317876),\n",
       " (85409, 1000000015.4774616, 1000000000.0022845, 2.8819610182555286),\n",
       " (88491, 999999985.0707076, 1000000000.0030866, 2.8827660926993657),\n",
       " (89425, 999999985.2992333, 1000000000.0020912, 2.8827465621582604),\n",
       " (93171, 1000000015.0967146, 1000000000.0013639, 2.8833948333216455)]"
      ]
     },
     "execution_count": 7,
     "metadata": {},
     "output_type": "execute_result"
    }
   ],
   "source": [
    "list(anomalies)#materialize"
   ]
  },
  {
   "cell_type": "markdown",
   "metadata": {},
   "source": [
    "## To think of, but not hand in\n",
    "\n",
    "What kinds of anomalies will this algorithm pick up? What kinds would a shorter \"window\" of anomaly detection, like 100 points around the time in question pick? How might you create an algorithm which does window based averaging? (hint: the window size is small compared to the time series size). \n",
    "\n",
    "Finally think a bit of how you might implement all of this in a production environment..remember that data streaming in might get backed up when you handle an anomaly.\n",
    "\n",
    "(Some inspiration might accrue if you look at the docs for `collections.deque`)."
   ]
  },
  {
   "cell_type": "code",
   "execution_count": null,
   "metadata": {
    "collapsed": true
   },
   "outputs": [],
   "source": []
  }
 ],
 "metadata": {
  "kernelspec": {
   "display_name": "Python 3",
   "language": "python",
   "name": "python3"
  },
  "language_info": {
   "codemirror_mode": {
    "name": "ipython",
    "version": 3
   },
   "file_extension": ".py",
   "mimetype": "text/x-python",
   "name": "python",
   "nbconvert_exporter": "python",
   "pygments_lexer": "ipython3",
   "version": "3.5.1"
  }
 },
 "nbformat": 4,
 "nbformat_minor": 0
}
